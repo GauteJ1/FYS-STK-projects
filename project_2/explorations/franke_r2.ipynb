{
 "cells": [
  {
   "cell_type": "markdown",
   "metadata": {},
   "source": [
    "In order to evaluate the performance of our models on the noisy Franke data, we check how much of the noise in the data is explainable in theory, i.e. the $R^2$-score of a perfect model.\n",
    "\n",
    "We do this by calculating the $R^2$ for a model guessing the exact values of the Franke function without noise, with target values the Franke function with noise."
   ]
  },
  {
   "cell_type": "code",
   "execution_count": null,
   "metadata": {},
   "outputs": [],
   "source": [
    "import numpy as np\n",
    "import sys\n",
    "import os\n",
    "\n",
    "sys.path.append(os.path.abspath(\"../src\"))\n",
    "from data_gen import FrankeDataGen\n",
    "\n",
    "np.random.seed(4155)"
   ]
  },
  {
   "cell_type": "code",
   "execution_count": 43,
   "metadata": {},
   "outputs": [],
   "source": [
    "noise = FrankeDataGen(data_points=101, noise=True)\n",
    "no_noise = FrankeDataGen(data_points=101, noise=False)"
   ]
  },
  {
   "cell_type": "markdown",
   "metadata": {},
   "source": [
    "$$ R^2 = \\frac{\\sum_i (y_i - f_i)^2}{\\sum_i (y_i - \\bar{y}_i)^2}$$\n",
    "\n",
    "where $f_i$ is the model (Franke without noise), $y_i$ is the targets (Franke with noise) and $\\bar{y}_i$ is the average of all $y_i$s."
   ]
  },
  {
   "cell_type": "code",
   "execution_count": 44,
   "metadata": {},
   "outputs": [],
   "source": [
    "y = noise.get_data()\n",
    "f = no_noise.get_data()\n",
    "\n",
    "y_bar = np.mean(y)\n",
    "\n",
    "R2 = np.sum((y - f) ** 2) / np.sum((y - y_bar) ** 2)"
   ]
  },
  {
   "cell_type": "code",
   "execution_count": 45,
   "metadata": {},
   "outputs": [
    {
     "data": {
      "text/plain": [
       "0.5151914977413603"
      ]
     },
     "execution_count": 45,
     "metadata": {},
     "output_type": "execute_result"
    }
   ],
   "source": [
    "R2"
   ]
  },
  {
   "cell_type": "code",
   "execution_count": null,
   "metadata": {},
   "outputs": [],
   "source": []
  }
 ],
 "metadata": {
  "kernelspec": {
   "display_name": "Python 3",
   "language": "python",
   "name": "python3"
  },
  "language_info": {
   "codemirror_mode": {
    "name": "ipython",
    "version": 3
   },
   "file_extension": ".py",
   "mimetype": "text/x-python",
   "name": "python",
   "nbconvert_exporter": "python",
   "pygments_lexer": "ipython3",
   "version": "3.12.7"
  }
 },
 "nbformat": 4,
 "nbformat_minor": 2
}
