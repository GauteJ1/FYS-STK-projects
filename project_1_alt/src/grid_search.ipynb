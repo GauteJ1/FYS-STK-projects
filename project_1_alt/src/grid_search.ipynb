{
 "cells": [
  {
   "cell_type": "markdown",
   "metadata": {},
   "source": [
    "### Grid search\n",
    "To find the optimal hyperparameter $\\lambda$ and the optimal model complexity for the Ridge and Lasso models, we do a grid search over several candidates for $\\lambda$ and complexity, comparing the mean squared error (MSE) for the models, selecting the model with the lowest MSE. We train the models using bootstrapping."
   ]
  },
  {
   "cell_type": "code",
   "execution_count": 1,
   "metadata": {},
   "outputs": [],
   "source": [
    "import numpy as np\n",
    "import json\n",
    "\n",
    "from data_gen import FrankeDataGen, TerrainDataGen\n",
    "from data_handling import DataHandler\n",
    "from reg_models import RidgeModel, LassoModel\n",
    "\n",
    "import warnings\n",
    "warnings.filterwarnings('ignore')"
   ]
  },
  {
   "cell_type": "code",
   "execution_count": 2,
   "metadata": {},
   "outputs": [],
   "source": [
    "degrees = [1,2,3,4,5,6,7,8,9,10,11]\n",
    "lmbdas = np.array([np.array([1,2,3,4,5,6,7,8,9])*10**(n) for n in range(-5, 1)]).ravel()\n",
    "np.random.seed(42)\n",
    "n_samples = 200"
   ]
  },
  {
   "cell_type": "code",
   "execution_count": 3,
   "metadata": {},
   "outputs": [],
   "source": [
    "def ridge_grid_search(handler):\n",
    "    \n",
    "    model = RidgeModel(handler)\n",
    "    min_MSE = 10000\n",
    "    best_lambda = 0\n",
    "    best_deg = 0\n",
    "\n",
    "    for deg in degrees:\n",
    "        for lmbda in lmbdas:\n",
    "            MSE = model.MSE_bootstrap(n_samples=n_samples, degree=deg, ridge_lambda=lmbda)\n",
    "            if MSE < min_MSE:\n",
    "                min_MSE = MSE\n",
    "                best_lambda = lmbda\n",
    "                best_deg = deg\n",
    "\n",
    "    new_degs = [best_deg-1, best_deg, best_deg+1]\n",
    "    new_lmbdas = np.linspace(best_lambda*(4/5), best_lambda*(6/5), 40)\n",
    "    print(f\"Best MSE: {min_MSE}, at degree: {best_deg} and lambda: {best_lambda}\")\n",
    "\n",
    "    for deg in new_degs:\n",
    "        for lmbda in new_lmbdas:\n",
    "            MSE = model.MSE_bootstrap(n_samples=n_samples, degree=deg, ridge_lambda=lmbda)\n",
    "            if MSE < min_MSE:\n",
    "                min_MSE = MSE\n",
    "                best_lambda = lmbda\n",
    "                best_deg = deg\n",
    "\n",
    "    print(f\"Best MSE: {min_MSE}, at degree: {best_deg} and lambda: {best_lambda}\")\n",
    "    return best_lambda, best_deg"
   ]
  },
  {
   "cell_type": "code",
   "execution_count": 4,
   "metadata": {},
   "outputs": [],
   "source": [
    "def lasso_grid_search(handler):\n",
    "\n",
    "    model = LassoModel(handler)\n",
    "    min_MSE = 10000\n",
    "    best_lambda = 0\n",
    "    best_deg = 0\n",
    "\n",
    "    for deg in degrees:\n",
    "        for lmbda in lmbdas:\n",
    "            MSE = model.MSE_bootstrap(n_samples=n_samples, degree=deg, lasso_lambda=lmbda)\n",
    "            if MSE < min_MSE:\n",
    "                min_MSE = MSE\n",
    "                best_lambda = lmbda\n",
    "                best_deg = deg\n",
    "    \n",
    "    new_degs = [best_deg-1, best_deg, best_deg+1]\n",
    "    new_lmbdas = np.linspace(best_lambda*(4/5), best_lambda*(6/5), 40)\n",
    "    print(f\"Best MSE: {min_MSE}, at degree: {best_deg} and lambda: {best_lambda}\")\n",
    "\n",
    "    for deg in new_degs:\n",
    "        for lmbda in new_lmbdas:\n",
    "            MSE = model.MSE_bootstrap(n_samples=n_samples, degree=deg, ridge_lambda=lmbda)\n",
    "            if MSE < min_MSE:\n",
    "                min_MSE = MSE\n",
    "                best_lambda = lmbda\n",
    "                best_deg = deg\n",
    "\n",
    "    print(f\"Best MSE: {min_MSE}, at degree: {best_deg} and lambda: {best_lambda}\")\n",
    "    return best_lambda, best_deg"
   ]
  },
  {
   "cell_type": "markdown",
   "metadata": {},
   "source": [
    "##### Franke Function with Noise"
   ]
  },
  {
   "cell_type": "code",
   "execution_count": 5,
   "metadata": {},
   "outputs": [],
   "source": [
    "data = FrankeDataGen(data_points=41, noise=True)\n",
    "handler = DataHandler(data=data, test_size=0.2)"
   ]
  },
  {
   "cell_type": "code",
   "execution_count": 6,
   "metadata": {},
   "outputs": [
    {
     "name": "stdout",
     "output_type": "stream",
     "text": [
      "Best MSE: 0.09033399355294418, at degree: 7 and lambda: 0.02\n",
      "Best MSE: 0.09029019676571981, at degree: 7 and lambda: 0.024\n"
     ]
    }
   ],
   "source": [
    "# ridge \n",
    "best_lambda, best_deg = ridge_grid_search(handler)\n",
    "\n",
    "best_params_ridge_franke = {\"best_lambda\": best_lambda, \"best_degree\": best_deg}"
   ]
  },
  {
   "cell_type": "code",
   "execution_count": 7,
   "metadata": {},
   "outputs": [
    {
     "name": "stdout",
     "output_type": "stream",
     "text": [
      "Best MSE: 0.0959264292822544, at degree: 8 and lambda: 2e-05\n",
      "Best MSE: 0.09575126712835873, at degree: 7 and lambda: 1.7230769230769234e-05\n"
     ]
    }
   ],
   "source": [
    "# lasso \n",
    "best_deg, best_lambda = lasso_grid_search(handler)\n",
    "\n",
    "best_params_lasso_franke = {\"best_lambda\": best_lambda, \"best_degree\": best_deg}"
   ]
  },
  {
   "cell_type": "markdown",
   "metadata": {},
   "source": [
    "##### Terrain Data"
   ]
  },
  {
   "cell_type": "code",
   "execution_count": 8,
   "metadata": {},
   "outputs": [],
   "source": [
    "data_terrain = TerrainDataGen(data_points=41)\n",
    "handler_terrain = DataHandler(data=data_terrain, test_size=0.2)"
   ]
  },
  {
   "cell_type": "code",
   "execution_count": 9,
   "metadata": {},
   "outputs": [
    {
     "name": "stdout",
     "output_type": "stream",
     "text": [
      "Best MSE: 156.86322530887014, at degree: 4 and lambda: 3.0000000000000004e-05\n",
      "Best MSE: 156.86322530887014, at degree: 4 and lambda: 3.0000000000000004e-05\n"
     ]
    }
   ],
   "source": [
    "# ridge \n",
    "best_lambda, best_deg = ridge_grid_search(handler_terrain)\n",
    "\n",
    "best_params_ridge_terrain = {\"best_lambda\": best_lambda, \"best_degree\": best_deg}"
   ]
  },
  {
   "cell_type": "code",
   "execution_count": 10,
   "metadata": {},
   "outputs": [
    {
     "name": "stdout",
     "output_type": "stream",
     "text": [
      "Best MSE: 155.90596195500808, at degree: 5 and lambda: 0.0002\n",
      "Best MSE: 150.23321351904164, at degree: 6 and lambda: 0.00022974358974358976\n"
     ]
    }
   ],
   "source": [
    "# lasso \n",
    "best_lambda, best_deg = lasso_grid_search(handler_terrain)\n",
    "\n",
    "best_params_lasso_terrain = {\"best_lambda\": best_lambda, \"best_degree\": best_deg}"
   ]
  },
  {
   "cell_type": "code",
   "execution_count": 11,
   "metadata": {},
   "outputs": [],
   "source": [
    "params = {\n",
    "    \"best_params_ridge_franke\": best_params_ridge_franke,\n",
    "    \"best_params_lasso_franke\": best_params_lasso_franke,\n",
    "    \"best_params_ridge_terrain\": best_params_ridge_terrain,\n",
    "    \"best_params_lasso_terrain\": best_params_lasso_terrain\n",
    "}\n",
    "\n",
    "with open(\"best_params.json\", \"w\") as f:\n",
    "    json.dump(params, f)\n",
    "\n",
    "    "
   ]
  }
 ],
 "metadata": {
  "kernelspec": {
   "display_name": "Python 3",
   "language": "python",
   "name": "python3"
  },
  "language_info": {
   "codemirror_mode": {
    "name": "ipython",
    "version": 3
   },
   "file_extension": ".py",
   "mimetype": "text/x-python",
   "name": "python",
   "nbconvert_exporter": "python",
   "pygments_lexer": "ipython3",
   "version": "3.12.6"
  }
 },
 "nbformat": 4,
 "nbformat_minor": 2
}
