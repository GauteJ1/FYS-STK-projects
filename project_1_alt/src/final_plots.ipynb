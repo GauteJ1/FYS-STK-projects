{
 "cells": [
  {
   "cell_type": "markdown",
   "metadata": {},
   "source": [
    "### Big final plots:\n",
    "\n",
    "Values from grid search:\n",
    "Ridge: degree: 6 and lambda: 0.008\n",
    "Lasso: degree: 11 and lambda: 7.0e-05\n",
    "\n",
    "(re-run these with higher number of samples before final delivery)"
   ]
  },
  {
   "cell_type": "code",
   "execution_count": 1,
   "metadata": {},
   "outputs": [
    {
     "ename": "SyntaxError",
     "evalue": "invalid syntax (110415310.py, line 7)",
     "output_type": "error",
     "traceback": [
      "\u001b[0;36m  Cell \u001b[0;32mIn[1], line 7\u001b[0;36m\u001b[0m\n\u001b[0;31m    ridge_lambda: float,\u001b[0m\n\u001b[0m                ^\u001b[0m\n\u001b[0;31mSyntaxError\u001b[0m\u001b[0;31m:\u001b[0m invalid syntax\n"
     ]
    }
   ],
   "source": [
    "from plotting import Plotting\n",
    "\n",
    "plots = Plotting(data_points=41, data=\"Franke_Noise\", seed=42)\n",
    "\n",
    "plots.plot_all(\n",
    "        ridge_lambda = 0.008,\n",
    "        lasso_lambda = 7e-5,\n",
    "        max_degree = 11,\n",
    "        n_samples = 20,\n",
    "        k_folds = 5,\n",
    "    )"
   ]
  }
 ],
 "metadata": {
  "kernelspec": {
   "display_name": "Python 3",
   "language": "python",
   "name": "python3"
  },
  "language_info": {
   "codemirror_mode": {
    "name": "ipython",
    "version": 3
   },
   "file_extension": ".py",
   "mimetype": "text/x-python",
   "name": "python",
   "nbconvert_exporter": "python",
   "pygments_lexer": "ipython3",
   "version": "3.12.6"
  }
 },
 "nbformat": 4,
 "nbformat_minor": 2
}
